{
 "cells": [
  {
   "cell_type": "markdown",
   "metadata": {
    "colab_type": "text",
    "id": "l0ZzOlyxB-kf"
   },
   "source": [
    "<h1>Python: without numpy or sklearn </h1>"
   ]
  },
  {
   "cell_type": "markdown",
   "metadata": {
    "colab_type": "text",
    "id": "C0xO8JV9B-ki"
   },
   "source": [
    "<h3> Q1: Given two matrices please print the product of those two matrices </h3>\n",
    "<pre>\n",
    "\n",
    "Ex 1: A   = [[1 3 4]\n",
    "             [2 5 7]\n",
    "             [5 9 6]]\n",
    "      B   = [[1 0 0]\n",
    "             [0 1 0]\n",
    "             [0 0 1]]\n",
    "      A*B = [[1 3 4]\n",
    "             [2 5 7]\n",
    "             [5 9 6]]\n",
    "\n",
    "     \n",
    "Ex 2: A   = [[1 2]\n",
    "             [3 4]]\n",
    "      B   = [[1 2 3 4 5]\n",
    "             [5 6 7 8 9]]\n",
    "      A*B = [[11 14 17 20 23]\n",
    "             [23 30 36 42 51]]\n",
    "             \n",
    "Ex 3: A   = [[1 2]\n",
    "             [3 4]]\n",
    "      B   = [[1 4]\n",
    "             [5 6]\n",
    "             [7 8]\n",
    "             [9 6]]\n",
    "      A*B =Not possible\n",
    "</pre>"
   ]
  },
  {
   "cell_type": "code",
   "execution_count": 51,
   "metadata": {
    "colab": {},
    "colab_type": "code",
    "id": "rnssAfpgB-kj"
   },
   "outputs": [],
   "source": [
    "# write your python code here\n",
    "# you can take the above example as sample input for your program to test\n",
    "# it should work for any general input try not to hard code for only given input examples\n",
    "\n",
    "\n",
    "# you can free to change all these codes/structure\n",
    "# here A and B are list of lists\n",
    "def matrix_mul(A, B):\n",
    "    # write your code\n",
    "    if len(A[0]) != len(B):\n",
    "        return (\"These matrices can't be multiplied!!\")\n",
    "    else:\n",
    "        result = [[sum(a*b for a,b in zip(A_row,B_col)) for B_col in zip(*B)] for A_row in A]\n",
    "    return result"
   ]
  },
  {
   "cell_type": "code",
   "execution_count": 53,
   "metadata": {},
   "outputs": [
    {
     "data": {
      "text/plain": [
       "[[114, 160, 60, 27], [74, 97, 73, 14], [119, 157, 112, 23]]"
      ]
     },
     "execution_count": 53,
     "metadata": {},
     "output_type": "execute_result"
    }
   ],
   "source": [
    "# Program to multiply two matrices using list comprehension\n",
    "\n",
    "# 3x3 matrix\n",
    "X = [[12,7,3],\n",
    "    [4 ,5,6],\n",
    "    [7 ,8,9]]\n",
    "\n",
    "# 3x4 matrix\n",
    "Y = [[5,8,1,2],\n",
    "    [6,7,3,0],\n",
    "    [4,5,9,1]]\n",
    "\n",
    "matrix_mul(X,Y)"
   ]
  },
  {
   "cell_type": "markdown",
   "metadata": {
    "colab_type": "text",
    "id": "at4VwLggB-kn"
   },
   "source": [
    "<h3> Q2: Select a number randomly with probability proportional to its magnitude from the given array of n elements</h3>\n",
    "\n",
    "consider an experiment, selecting an element from the list A randomly with probability proportional to its magnitude.\n",
    "assume we are doing the same experiment for 100 times with replacement, in each experiment you will print a number that is selected randomly from A.\n",
    "\n",
    "<pre>\n",
    "Ex 1: A = [0 5 27 6 13 28 100 45 10 79]\n",
    "let f(x) denote the number of times x getting selected in 100 experiments.\n",
    "f(100) > f(79) > f(45) > f(28) > f(27) > f(13) > f(10) > f(6) > f(5) > f(0)\n",
    "</pre>"
   ]
  },
  {
   "cell_type": "code",
   "execution_count": 99,
   "metadata": {
    "colab": {},
    "colab_type": "code",
    "id": "B6S2dpBhB-kn"
   },
   "outputs": [
    {
     "name": "stdout",
     "output_type": "stream",
     "text": [
      "200\n",
      "200\n",
      "200\n",
      "200\n",
      "200\n",
      "200\n",
      "200\n",
      "200\n",
      "200\n",
      "200\n",
      "100\n",
      "100\n",
      "100\n",
      "27\n",
      "45\n",
      "200\n",
      "27\n",
      "28\n",
      "27\n",
      "100\n",
      "200\n",
      "27\n",
      "100\n",
      "100\n",
      "200\n",
      "200\n",
      "200\n",
      "100\n",
      "100\n",
      "28\n",
      "200\n",
      "45\n",
      "100\n",
      "45\n",
      "100\n",
      "13\n",
      "28\n",
      "200\n",
      "200\n",
      "100\n",
      "27\n",
      "100\n",
      "100\n",
      "200\n",
      "100\n",
      "200\n",
      "100\n",
      "45\n",
      "45\n",
      "6\n",
      "200\n",
      "28\n",
      "100\n",
      "200\n",
      "45\n",
      "10\n",
      "200\n",
      "200\n",
      "200\n",
      "200\n",
      "200\n",
      "100\n",
      "200\n",
      "45\n",
      "200\n",
      "100\n",
      "200\n",
      "100\n",
      "200\n",
      "100\n",
      "45\n",
      "200\n",
      "28\n",
      "200\n",
      "200\n",
      "28\n",
      "200\n",
      "200\n",
      "45\n",
      "200\n",
      "100\n",
      "100\n",
      "100\n",
      "100\n",
      "200\n",
      "200\n",
      "13\n",
      "28\n",
      "200\n",
      "100\n",
      "10\n",
      "200\n",
      "100\n",
      "200\n",
      "200\n",
      "27\n",
      "100\n",
      "28\n",
      "100\n"
     ]
    },
    {
     "ename": "AttributeError",
     "evalue": "'NoneType' object has no attribute 'value_counts'",
     "output_type": "error",
     "traceback": [
      "\u001b[0;31m---------------------------------------------------------------------------\u001b[0m",
      "\u001b[0;31mAttributeError\u001b[0m                            Traceback (most recent call last)",
      "\u001b[0;32m<ipython-input-99-d6d56d2f866d>\u001b[0m in \u001b[0;36m<module>\u001b[0;34m\u001b[0m\n\u001b[1;32m     27\u001b[0m         \u001b[0mprint\u001b[0m\u001b[0;34m(\u001b[0m\u001b[0mnumber\u001b[0m\u001b[0;34m)\u001b[0m\u001b[0;34m\u001b[0m\u001b[0;34m\u001b[0m\u001b[0m\n\u001b[1;32m     28\u001b[0m \u001b[0;34m\u001b[0m\u001b[0m\n\u001b[0;32m---> 29\u001b[0;31m \u001b[0msampling_based_on_magnitued\u001b[0m\u001b[0;34m(\u001b[0m\u001b[0;34m[\u001b[0m\u001b[0;36m0\u001b[0m\u001b[0;34m,\u001b[0m \u001b[0;36m5\u001b[0m\u001b[0;34m,\u001b[0m \u001b[0;36m27\u001b[0m\u001b[0;34m,\u001b[0m \u001b[0;36m6\u001b[0m\u001b[0;34m,\u001b[0m \u001b[0;36m13\u001b[0m\u001b[0;34m,\u001b[0m \u001b[0;36m28\u001b[0m\u001b[0;34m,\u001b[0m \u001b[0;36m100\u001b[0m\u001b[0;34m,\u001b[0m \u001b[0;36m45\u001b[0m\u001b[0;34m,\u001b[0m \u001b[0;36m10\u001b[0m\u001b[0;34m,\u001b[0m \u001b[0;36m200\u001b[0m\u001b[0;34m]\u001b[0m\u001b[0;34m)\u001b[0m\u001b[0;34m.\u001b[0m\u001b[0mvalue_counts\u001b[0m\u001b[0;34m(\u001b[0m\u001b[0;34m)\u001b[0m\u001b[0;34m\u001b[0m\u001b[0;34m\u001b[0m\u001b[0m\n\u001b[0m",
      "\u001b[0;31mAttributeError\u001b[0m: 'NoneType' object has no attribute 'value_counts'"
     ]
    }
   ],
   "source": [
    "from random import uniform\n",
    "import numpy as np\n",
    "# write your python code here\n",
    "# you can take the above example as sample input for your program to test\n",
    "# it should work for any general input try not to hard code for only given input examples\n",
    "\n",
    "\n",
    "# you can free to change all these codes/structure\n",
    "def pick_a_number_from_list(A):\n",
    "    # your code here for picking an element from with the probability propotional to its magnitude\n",
    "    index = 0\n",
    "    normalized = [i/sum(A) for i in A]\n",
    "    cumsum_list = np.cumsum(normalized)  \n",
    "    random = uniform(0.0,1.0)\n",
    "   # print(random)\n",
    "    for i in range(0,len(cumsum_list)):\n",
    "       # print(\"cumsum is {}\".format(cumsum_list[i]))\n",
    "        if (random < cumsum_list[i]):\n",
    "            output = A[i]\n",
    "            #print (\"output is {}\".format(output))\n",
    "            break\n",
    "    return output#selected_random_number\n",
    "\n",
    "def sampling_based_on_magnitued(A):\n",
    "    for i in range(1,100):\n",
    "        number = pick_a_number_from_list(A)\n",
    "        print(number)\n",
    "\n",
    "sampling_based_on_magnitued([0, 5, 27, 6, 13, 28, 100, 45, 10, 200])"
   ]
  },
  {
   "cell_type": "markdown",
   "metadata": {
    "colab_type": "text",
    "id": "D1xQy2WWB-kq"
   },
   "source": [
    "<h3> Q3: Replace the digits in the string with #</h3>\n",
    "\n",
    "consider a string that will have digits in that, we need to remove all the not digits and replace the digits with #\n",
    "<pre>\n",
    "Ex 1: A = 234                Output: ###\n",
    "Ex 2: A = a2b3c4             Output: ###\n",
    "Ex 3: A = abc                Output:   (empty string)\n",
    "Ex 5: A = #2a$#b%c%561#      Output: ####\n",
    "</pre>"
   ]
  },
  {
   "cell_type": "code",
   "execution_count": 116,
   "metadata": {
    "colab": {},
    "colab_type": "code",
    "id": "fxczi2jzB-kr"
   },
   "outputs": [
    {
     "data": {
      "text/plain": [
       "'####'"
      ]
     },
     "execution_count": 116,
     "metadata": {},
     "output_type": "execute_result"
    }
   ],
   "source": [
    "import re\n",
    "# write your python code here\n",
    "# you can take the above example as sample input for your program to test\n",
    "# it should work for any general input try not to hard code for only given input examples\n",
    "\n",
    "# you can free to change all these codes/structure\n",
    "# String: it will be the input to your program\n",
    "def replace_digits(String):\n",
    "    # write your code\n",
    "    output = \"#\" * len(re.sub(r'\\D', '', String))\n",
    "    return(output) # modified string which is after replacing the # with digits\n",
    "\n",
    "replace_digits(\"#2a$#b%c%561#\")"
   ]
  },
  {
   "cell_type": "markdown",
   "metadata": {
    "colab_type": "text",
    "id": "j7h0Ywg7B-kw"
   },
   "source": [
    "<h3> Q4: Students marks dashboard</h3>\n",
    "\n",
    "consider the marks list of class students given two lists <br>\n",
    "Students = ['student1','student2','student3','student4','student5','student6','student7','student8','student9','student10'] <br>\n",
    "Marks = [45, 78, 12, 14, 48, 43, 45, 98, 35, 80] <br>\n",
    "from the above two lists the Student[0] got Marks[0],  Student[1] got Marks[1] and so on <br><br>\n",
    "your task is to print the name of students\n",
    "<strong>a. Who got top 5 ranks, in the descending order of marks</strong> <br>\n",
    "<strong>b. Who got least 5 ranks, in the increasing order of marks</strong><br>\n",
    "<strong>d. Who got marks between  &gt;25th percentile &lt;75th percentile, in the increasing order of marks</strong>\n",
    "\n",
    "<pre>\n",
    "Ex 1: \n",
    "Students=['student1','student2','student3','student4','student5','student6','student7','student8','student9','student10'] \n",
    "Marks = [45, 78, 12, 14, 48, 43, 47, 98, 35, 80]\n",
    "a. \n",
    "student8  98\n",
    "student10 80\n",
    "student2  78\n",
    "student5  48\n",
    "student7  47\n",
    "b.\n",
    "student3 12\n",
    "student4 14\n",
    "student9 35\n",
    "student6 43\n",
    "student1 45\n",
    "c.\n",
    "student6 43\n",
    "student1 45\n",
    "student7 47\n",
    "student5 48\n",
    "</pre>"
   ]
  },
  {
   "cell_type": "code",
   "execution_count": 158,
   "metadata": {
    "colab": {},
    "colab_type": "code",
    "id": "cxPJgItsB-kx"
   },
   "outputs": [
    {
     "name": "stdout",
     "output_type": "stream",
     "text": [
      "Top 5 students are: {'student8': 98, 'student10': 80, 'student2': 78, 'student5': 48, 'student7': 47} \n",
      "Least 5 students are: {'student3': 12, 'student4': 14, 'student9': 35, 'student6': 43, 'student1': 45}\n",
      "Students within 25 and 75 are: {'student5': 48, 'student7': 47, 'student1': 45, 'student6': 43, 'student9': 35}\n"
     ]
    }
   ],
   "source": [
    "# write your python code here\n",
    "# you can take the above example as sample input for your program to test\n",
    "# it should work for any general input try not to hard code for only given input examples\n",
    "\n",
    "# you can free to change all these codes/structure\n",
    "def display_dash_board(students, marks):\n",
    "    student_Score = {}\n",
    "    for student,mark in zip(Students,Marks):\n",
    "        student_Score.update({student:mark})\n",
    "    # write code for computing top top 5 students\n",
    "    top_5_students = {k: v for k, v in sorted(kamus.items(), key=lambda item: item[1],reverse=True)[:5]}\n",
    "    # write code for computing top least 5 students\n",
    "    least_5_students = {k: v for k, v in sorted(kamus.items(), key=lambda item: item[1])[:5]}\n",
    "    # write code for computing top least 5 students\n",
    "    n = len(Marks)\n",
    "    first_quartile = int(n/4) if (n/4).is_integer() else int(n/4)+1\n",
    "    third_quartile = int(3*n/4) if (3*n/4).is_integer() else int(3*n/4)+1  # as we want <75th percentile\n",
    "    students_within_25_and_75 = {k: v for k, v in sorted(kamus.items(), key=lambda item: item[1],reverse=True)[first_quartile:third_quartile-1]}\n",
    "# compute this\n",
    "    \n",
    "    return top_5_students, least_5_students, students_within_25_and_75\n",
    "\n",
    "\n",
    "Students = ['student1','student2','student3','student4','student5','student6','student7','student8','student9','student10']\n",
    "Marks = [45, 78, 12, 14, 48, 43, 47, 98, 35, 80]\n",
    "\n",
    "top_5_students, least_5_students, students_within_25_and_75 = display_dash_board(Students, Marks)\n",
    "print(\"Top 5 students are: {} \\nLeast 5 students are: {}\\nStudents within 25 and 75 are: {}\".format(top_5_students, least_5_students, students_within_25_and_75))"
   ]
  },
  {
   "cell_type": "markdown",
   "metadata": {
    "colab_type": "text",
    "id": "qha0OhQHB-k1"
   },
   "source": [
    "<h3> Q5: Find the closest points</h3>\n",
    "\n",
    "consider you have given n data points in the form of list of tuples like S=[(x1,y1),(x2,y2),(x3,y3),(x4,y4),(x5,y5),..,(xn,yn)] and a point P=(p,q) <br> your task is to find 5 closest points(based on cosine distance) in S from P\n",
    "<br>cosine distance between two points (x,y) and (p,q) is defind as $cos^{-1}(\\frac{(x\\cdot p+y\\cdot q)}{\\sqrt(x^2+y^2)\\cdot\\sqrt(p^2+q^2)})$\n",
    "<pre>\n",
    "Ex:\n",
    "\n",
    "S= [(1,2),(3,4),(-1,1),(6,-7),(0, 6),(-5,-8),(-1,-1)(6,0),(1,-1)]\n",
    "P= (3,-4)\n",
    "<img src='https://i.imgur.com/vIFPOcG.jpg', width=300>\n",
    "Output:\n",
    "(6,-7)\n",
    "(1,-1)\n",
    "(6,0)\n",
    "(-5,-8)\n",
    "(-1,-1)\n",
    "</pre>"
   ]
  },
  {
   "cell_type": "code",
   "execution_count": 41,
   "metadata": {
    "colab": {},
    "colab_type": "code",
    "id": "wA5I1g-2B-k2"
   },
   "outputs": [
    {
     "name": "stdout",
     "output_type": "stream",
     "text": [
      "(6, -7)\n",
      "(1, -1)\n",
      "(6, 0)\n",
      "(-5, -8)\n",
      "(-1, -1)\n"
     ]
    }
   ],
   "source": [
    "import math\n",
    "import numpy\n",
    "\n",
    "\n",
    "# write your python code here\n",
    "# you can take the above example as sample input for your program to test\n",
    "# it should work for any general input try not to hard code for only given input examples\n",
    "# you can free to change all these codes/structure\n",
    "\n",
    "\n",
    "# here S is list of tuples and P is a tuple ot len=2\n",
    "\n",
    "def closest_points_to_p(S, P):\n",
    "    # write your code here\n",
    "    cosine_distance = {}\n",
    "    for points in S:\n",
    "        distance = (np.dot(points,P)/(np.dot(points,points)*np.dot(P,P))**(0.5))\n",
    "        cosine_distance.update({points:1-distance})\n",
    "    return cosine_distance  # its list of tuples\n",
    "\n",
    "\n",
    "\n",
    "S = [(1,2),(3,4),(-1,1),(6,-7),(0, 6),(-5,-8),(-1,-1),(6,0),(1,-1)]\n",
    "P = (3,-4)\n",
    "points = closest_points_to_p(S, P)\n",
    "top5_closest = {k: v for k, v in sorted(points.items(), key=lambda item: item[1])[:5]}\n",
    "\n",
    "top5_closest\n",
    "for (key,value) in top5_closest:\n",
    " \n",
    "    print((key,value)) #print the returned values"
   ]
  },
  {
   "cell_type": "markdown",
   "metadata": {
    "colab_type": "text",
    "id": "-g11jeAiB-k5"
   },
   "source": [
    "<h3> Q6: Find Which line separates oranges and apples</h3>\n",
    "consider you have given two set of data points in the form of list of tuples like \n",
    "<pre>\n",
    "Red =[(R11,R12),(R21,R22),(R31,R32),(R41,R42),(R51,R52),..,(Rn1,Rn2)]\n",
    "Blue=[(B11,B12),(B21,B22),(B31,B32),(B41,B42),(B51,B52),..,(Bm1,Bm2)]\n",
    "</pre>\n",
    "and set of line equations(in the string formate, i.e list of strings)\n",
    "<pre>\n",
    "Lines = [a1x+b1y+c1,a2x+b2y+c2,a3x+b3y+c3,a4x+b4y+c4,..,K lines]\n",
    "Note: you need to string parsing here and get the coefficients of x,y and intercept\n",
    "</pre>\n",
    "your task is to for each line that is given print \"YES\"/\"NO\", you will print yes, if all the red points are one side of the line and blue points are other side of the line, otherwise no\n",
    "<pre>\n",
    "Ex:\n",
    "Red= [(1,1),(2,1),(4,2),(2,4), (-1,4)]\n",
    "Blue= [(-2,-1),(-1,-2),(-3,-2),(-3,-1),(1,-3)]\n",
    "Lines=[\"1x+1y+0\",\"1x-1y+0\",\"1x+0y-3\",\"0x+1y-0.5\"]\n",
    "<img src='https://i.imgur.com/DoQf7mE.jpg' width=400>\n",
    "Output:\n",
    "YES\n",
    "NO\n",
    "NO\n",
    "YES\n",
    "</pre>"
   ]
  },
  {
   "cell_type": "code",
   "execution_count": 101,
   "metadata": {
    "colab": {},
    "colab_type": "code",
    "id": "eRxExaTRB-k6"
   },
   "outputs": [
    {
     "name": "stdout",
     "output_type": "stream",
     "text": [
      "YES\n",
      "NO\n",
      "NO\n",
      "YES\n"
     ]
    }
   ],
   "source": [
    "import regex as re\n",
    "# write your python code here\n",
    "# you can take the above example as sample input for your program to test\n",
    "# it should work for any general input try not to hard code for only given input strings\n",
    "\n",
    "# source: https://stackoverflow.com/questions/56948506/how-to-extract-coefficients-from-a-line-equation-in-python-without-using-numpy\n",
    "def CoefficientIntercept(equation):\n",
    "    coef_x = re.findall('-?[0-9.]*[Xx]', equation)[0][:-1]\n",
    "    coef_y = re.findall('-?[0-9.]*[Yy]', equation)[0][:-1]\n",
    "    intercept = re.sub(\"[+-]?\\d+[XxYy]|[+-]?\\d+\\.\\d+[XxYy]\",\"\", equation)    \n",
    "    return float(coef_x), float(coef_y), float(intercept)\n",
    "\n",
    "# written to handle where the points on the line\n",
    "def PointLiesOnLine(Xeq,Yeq,Aeq,Beq,Ceq):\n",
    "    if ((Aeq*Xeq)+(Beq*Yeq)+Ceq) == 0:\n",
    "        return True\n",
    "    else:\n",
    "        return False\n",
    "    \n",
    "\n",
    "# you can free to change all these codes/structure\n",
    "def i_am_the_one(red,blue,line):\n",
    "    # your code\n",
    "    A,B,C = CoefficientIntercept(line)\n",
    "    redCalc,blueCalc = [],[]\n",
    "    output = \"\"\n",
    "\n",
    "    for pointA,pointB in zip(red,blue):\n",
    "        xRed,yRed = pointA\n",
    "        xBlue,yBlue = pointB\n",
    "    \n",
    "        if PointLiesOnLine(xRed,yRed,A,B,C) or PointLiesOnLine(xBlue,yBlue,A,B,C):\n",
    "            output = \"NO\"\n",
    "            break;\n",
    "        else:\n",
    "            #redCalc.append(yRed-((A*xRed)+C)/(-B))\n",
    "            #blueCalc.append(yBlue-((A*xBlue)+C)/(-B))\n",
    "            \n",
    "            #the distance between a point and a line \n",
    "            redCalc.append(((A*xRed) + (B*yRed) + C)/math.sqrt(A**2+B**2))\n",
    "            blueCalc.append(((A*xBlue) + (B*yBlue) + C)/math.sqrt(A**2+B**2))\n",
    "\n",
    "    if (np.sum(np.sign(redCalc)) == 5 or np.sum(np.sign(redCalc)) == -5) and (np.sum(np.sign(blueCalc)) == 5 or np.sum(np.sign(blueCalc)) == -5):\n",
    "        output = \"YES\"\n",
    "    else:\n",
    "        output = \"NO\"\n",
    "    return output #yes/no\n",
    "\n",
    "Red= [(1,1),(2,1),(4,2),(2,4), (-1,4)]\n",
    "Blue= [(-2,-1),(-1,-2),(-3,-2),(-3,-1),(1,-3)]\n",
    "Lines=[\"1x+1y+0\",\"1x-1y+0\",\"1x+0y-3\",\"0x+1y-0.5\"]\n",
    "\n",
    "for i in Lines:\n",
    "    yes_or_no = i_am_the_one(Red, Blue, i)\n",
    "    print(yes_or_no)"
   ]
  },
  {
   "cell_type": "markdown",
   "metadata": {
    "colab_type": "text",
    "id": "9OBpURbNB-k9"
   },
   "source": [
    "<h3> Q7: Filling the missing values in the specified formate</h3>\n",
    "You will be given a string with digits and '\\_'(missing value) symbols you have to replace the '\\_' symbols as explained \n",
    "<pre>\n",
    "Ex 1: _, _, _, 24 ==> 24/4, 24/4, 24/4, 24/4 i.e we. have distributed the 24 equally to all 4 places <br>\n",
    "Ex 2: 40, _, _, _, 60 ==> (60+40)/5,(60+40)/5,(60+40)/5,(60+40)/5,(60+40)/5 ==> 20, 20, 20, 20, 20 i.e. the sum of (60+40) is distributed qually to all 5 places<br>\n",
    "Ex 3: 80, _, _, _, _  ==> 80/5,80/5,80/5,80/5,80/5 ==> 16, 16, 16, 16, 16 i.e. the 80 is distributed qually to all 5 missing values that are right to it<br>\n",
    "Ex 4: _, _, 30, _, _, _, 50, _, _  \n",
    "==> we will fill the missing values from left to right \n",
    "    a. first we will distribute the 30 to left two missing values (10, 10, 10, _, _, _, 50, _, _)\n",
    "    b. now distribute the sum (10+50) missing values in between (10, 10, 12, 12, 12, 12, 12, _, _) \n",
    "    c. now we will distribute 12 to right side missing values (10, 10, 12, 12, 12, 12, 4, 4, 4)\n",
    "</pre>\n",
    "for a given string with comma seprate values, which will have both missing values numbers like ex: \"_, _, x, _, _, _\"\n",
    "you need fill the missing values\n",
    "\n",
    "Q: your program reads a string like ex: \"_, _, x, _, _, _\" and returns the filled sequence\n",
    "\n",
    "Ex: \n",
    "<pre>\n",
    "Input1: \"_,_,_,24\"\n",
    "Output1: 6,6,6,6\n",
    "\n",
    "Input2: \"40,_,_,_,60\"\n",
    "Output2: 20,20,20,20,20\n",
    "\n",
    "Input3: \"80,_,_,_,_\"\n",
    "Output3: 16,16,16,16,16\n",
    "\n",
    "Input4: \"_,_,30,_,_,_,50,_,_\"\n",
    "Output4: 10,10,12,12,12,12,4,4,4\n",
    "</pre>\n",
    "\n"
   ]
  },
  {
   "cell_type": "code",
   "execution_count": null,
   "metadata": {
    "colab": {},
    "colab_type": "code",
    "id": "nZmpzHs_B-k-"
   },
   "outputs": [],
   "source": [
    "# write your python code here\n",
    "# you can take the above example as sample input for your program to test\n",
    "# it should work for any general input try not to hard code for only given input strings\n",
    "\n",
    "\n",
    "# you can free to change all these codes/structure\n",
    "def curve_smoothing(string):\n",
    "    # your code\n",
    "    return #list of values\n",
    "\n",
    "S=  \"_,_,30,_,_,_,50,_,_\"\n",
    "smoothed_values= curve_smoothing(S)\n",
    "print(# print above values)"
   ]
  },
  {
   "cell_type": "code",
   "execution_count": 146,
   "metadata": {},
   "outputs": [
    {
     "data": {
      "text/plain": [
       "[10, 20, 12, 12, 12, 12, 31, 10, 10, 10]"
      ]
     },
     "execution_count": 146,
     "metadata": {},
     "output_type": "execute_result"
    }
   ],
   "source": [
    "# source: \n",
    "def replace(string):\n",
    "    lst=string.split(',')\n",
    "    for i in range(len(lst)):\n",
    "        if lst[i].isdigit():\n",
    "            for j in range(i+1):\n",
    "                lst[j]=int(lst[i])//(i+1)\n",
    "            new_index=i\n",
    "            new_value=int(lst[i])\n",
    "            break\n",
    "    for i in range(new_index+1,len(lst)):\n",
    "        if lst[i].isdigit():\n",
    "            replacement=(new_value+int(lst[i]))//(i-new_index+1)\n",
    "            for j in range(new_index,i+1):\n",
    "                lst[j]=replacement\n",
    "            new_index=i\n",
    "            new_value=int(lst[i])\n",
    "    try:\n",
    "        for i in range(new_index+1,len(lst)):\n",
    "            if not(lst[i].isdigit()):\n",
    "                count=lst.count('_')\n",
    "                break\n",
    "        replacement_2=new_value//(count+1)\n",
    "        for i in range(new_index,len(lst)):\n",
    "            lst[i]=replacement_2\n",
    "    except:\n",
    "        pass\n",
    "    return lst \n",
    "\n",
    "replace(\"_,20,30,_,_,_,40,50,_,_\")"
   ]
  },
  {
   "cell_type": "markdown",
   "metadata": {
    "colab_type": "text",
    "id": "RBz4pzlfB-lB"
   },
   "source": [
    "<h3> Q8: Filling the missing values in the specified formate</h3>\n",
    "You will be given a list of lists, each sublist will be of length 2 i.e. [[x,y],[p,q],[l,m]..[r,s]]\n",
    "consider its like a martrix of n rows and two columns\n",
    "1. the first column F will contain only 5 uniques values (F1, F2, F3, F4, F5)\n",
    "2. the second column S will contain only 3 uniques values (S1, S2, S3)\n",
    "<pre>\n",
    "your task is to find\n",
    "a. Probability of P(F=F1|S==S1), P(F=F1|S==S2), P(F=F1|S==S3)\n",
    "b. Probability of P(F=F2|S==S1), P(F=F2|S==S2), P(F=F2|S==S3)\n",
    "c. Probability of P(F=F3|S==S1), P(F=F3|S==S2), P(F=F3|S==S3)\n",
    "d. Probability of P(F=F4|S==S1), P(F=F4|S==S2), P(F=F4|S==S3)\n",
    "e. Probability of P(F=F5|S==S1), P(F=F5|S==S2), P(F=F5|S==S3)\n",
    "</pre>\n",
    "Ex:\n",
    "\n",
    "<pre>\n",
    "[[F1,S1],[F2,S2],[F3,S3],[F1,S2],[F2,S3],[F3,S2],[F2,S1],[F4,S1],[F4,S3],[F5,S1]]\n",
    "\n",
    "a. P(F=F1|S==S1)=1/4, P(F=F1|S==S2)=1/3, P(F=F1|S==S3)=0/3\n",
    "b. P(F=F2|S==S1)=1/4, P(F=F2|S==S2)=1/3, P(F=F2|S==S3)=1/3\n",
    "c. P(F=F3|S==S1)=0/4, P(F=F3|S==S2)=1/3, P(F=F3|S==S3)=1/3\n",
    "d. P(F=F4|S==S1)=1/4, P(F=F4|S==S2)=0/3, P(F=F4|S==S3)=1/3\n",
    "e. P(F=F5|S==S1)=1/4, P(F=F5|S==S2)=0/3, P(F=F5|S==S3)=0/3\n",
    "</pre>\n",
    "\n",
    "\n"
   ]
  },
  {
   "cell_type": "code",
   "execution_count": 162,
   "metadata": {},
   "outputs": [
    {
     "name": "stdout",
     "output_type": "stream",
     "text": [
      "Probability of P(F=F1|S==S1) 0.25\n",
      "Probability of P(F=F2|S==S1) 0.25\n",
      "Probability of P(F=F3|S==S1) 0.0\n",
      "Probability of P(F=F4|S==S1) 0.25\n",
      "Probability of P(F=F5|S==S1) 0.25\n",
      "Probability of P(F=F1|S==S2) 0.3333333333333333\n",
      "Probability of P(F=F2|S==S2) 0.3333333333333333\n",
      "Probability of P(F=F3|S==S2) 0.3333333333333333\n",
      "Probability of P(F=F4|S==S2) 0.0\n",
      "Probability of P(F=F5|S==S2) 0.0\n",
      "Probability of P(F=F1|S==S3) 0.0\n",
      "Probability of P(F=F2|S==S3) 0.3333333333333333\n",
      "Probability of P(F=F3|S==S3) 0.3333333333333333\n",
      "Probability of P(F=F4|S==S3) 0.3333333333333333\n",
      "Probability of P(F=F5|S==S3) 0.0\n"
     ]
    }
   ],
   "source": [
    "A = [['F1', 'S1'], ['F2', 'S2'], ['F3', 'S3'], ['F1', 'S2'], ['F2', 'S3'], ['F3', 'S2'], ['F2', 'S1'], ['F4', 'S1'], ['F4', 'S3'], ['F5', 'S1']]\n",
    "\n",
    "# write your python code here\n",
    "# you can take the above example as sample input for your program to test\n",
    "# it should work for any general input try not to hard code for only given input strings\n",
    "\n",
    "\n",
    "dictionary1 = {\n",
    "'F1S1': 0,\n",
    "'F2S1': 0,\n",
    "'F3S1': 0,\n",
    "'F4S1': 0,\n",
    "'F5S1': 0,\n",
    "'F1S2': 0,\n",
    "'F2S2': 0,\n",
    "'F3S2': 0,\n",
    "'F4S2': 0,\n",
    "'F5S2': 0,\n",
    "'F1S3': 0,\n",
    "'F2S3': 0,\n",
    "'F3S3': 0,\n",
    "'F4S3': 0,\n",
    "'F5S3': 0,\n",
    "}\n",
    "\n",
    "dictionary2 = {\n",
    "'S1': 0,\n",
    "'S2': 0,\n",
    "'S3': 0\n",
    "}\n",
    "\n",
    "\n",
    "def compute_conditional_probabilites(A):\n",
    "    for i in range(len(A)):\n",
    "        k = A[i][0] + A[i][1]\n",
    "        dictionary1[k] += 1\n",
    "        y = A[i][1]\n",
    "        dictionary2[A[i][1]] += 1\n",
    "\n",
    "compute_conditional_probabilites(A)\n",
    "\n",
    "print('Probability of P(F=F1|S==S1)', (dictionary1['F1S1']/dictionary2['S1']))\n",
    "print('Probability of P(F=F2|S==S1)', (dictionary1['F2S1']/dictionary2['S1']))\n",
    "print('Probability of P(F=F3|S==S1)', (dictionary1['F3S1']/dictionary2['S1']))\n",
    "print('Probability of P(F=F4|S==S1)', (dictionary1['F4S1']/dictionary2['S1']))\n",
    "print('Probability of P(F=F5|S==S1)', (dictionary1['F5S1']/dictionary2['S1']))\n",
    "\n",
    "print('Probability of P(F=F1|S==S2)', (dictionary1['F1S2']/dictionary2['S2']))\n",
    "print('Probability of P(F=F2|S==S2)', (dictionary1['F2S2']/dictionary2['S2']))\n",
    "print('Probability of P(F=F3|S==S2)', (dictionary1['F3S2']/dictionary2['S2']))\n",
    "print('Probability of P(F=F4|S==S2)', (dictionary1['F4S2']/dictionary2['S2']))\n",
    "print('Probability of P(F=F5|S==S2)', (dictionary1['F5S2']/dictionary2['S2']))\n",
    "\n",
    "print('Probability of P(F=F1|S==S3)', (dictionary1['F1S3']/dictionary2['S3']))\n",
    "print('Probability of P(F=F2|S==S3)', (dictionary1['F2S3']/dictionary2['S3']))\n",
    "print('Probability of P(F=F3|S==S3)', (dictionary1['F3S3']/dictionary2['S3']))\n",
    "print('Probability of P(F=F4|S==S3)', (dictionary1['F4S3']/dictionary2['S3']))\n",
    "print('Probability of P(F=F5|S==S3)', (dictionary1['F5S3']/dictionary2['S3']))"
   ]
  },
  {
   "cell_type": "markdown",
   "metadata": {
    "colab_type": "text",
    "id": "n4HS87QmB-lF"
   },
   "source": [
    "<h3> Q9: Given two sentances S1, S2</h3>\n",
    "You will be given two sentances S1, S2 your task is to find \n",
    "<pre>\n",
    "a. Number of common words between S1, S2\n",
    "b. Words in S1 but not in S2\n",
    "c. Words in S2 but not in S1\n",
    "</pre>\n",
    "\n",
    "Ex: \n",
    "<pre>\n",
    "S1= \"the first column F will contain only 5 uniques values\"\n",
    "S2= \"the second column S will contain only 3 uniques values\"\n",
    "Output:\n",
    "a. 7\n",
    "b. ['first','F','5']\n",
    "c. ['second','S','3']\n",
    "</pre>"
   ]
  },
  {
   "cell_type": "code",
   "execution_count": 191,
   "metadata": {
    "colab": {},
    "colab_type": "code",
    "id": "Ez7hlHK0B-lG"
   },
   "outputs": [
    {
     "name": "stdout",
     "output_type": "stream",
     "text": [
      "['the', 'column', 'will', 'contain', 'only', 'uniques', 'values'] ['first', 'F', '5'] ['second', 'S', '3']\n"
     ]
    }
   ],
   "source": [
    "# write your python code here\n",
    "# you can take the above example as sample input for your program to test\n",
    "# it should work for any general input try not to hard code for only given input strings\n",
    "\n",
    "# you can free to change all these codes/structure\n",
    "def string_features(S1, S2):\n",
    "    b = []\n",
    "    c = []\n",
    "    a = []\n",
    "    list_S1 = S1.split()\n",
    "    list_S2 = S2.split()\n",
    "    for i in list_S1:\n",
    "        if i not in list_S2:\n",
    "            b.append(i)\n",
    "        elif i in list_S2:\n",
    "            a.append(i)\n",
    "\n",
    "    for i in list_S2:\n",
    "        if i not in list_S1:\n",
    "            c.append(i)\n",
    "    return a,b,c\n",
    "\n",
    "S1= \"the first column F will contain only 5 uniques values\"\n",
    "S2= \"the second column S will contain only 3 uniques values\"\n",
    "a,b,c= string_features(S1, S2)\n",
    "print(a,b,c)"
   ]
  },
  {
   "cell_type": "markdown",
   "metadata": {
    "colab_type": "text",
    "id": "XefXVEjCB-lI"
   },
   "source": [
    "<h3> Q10: Given two sentances S1, S2</h3>\n",
    "You will be given a list of lists, each sublist will be of length 2 i.e. [[x,y],[p,q],[l,m]..[r,s]]\n",
    "consider its like a martrix of n rows and two columns\n",
    "\n",
    "a. the first column Y will contain interger values <br>\n",
    "b. the second column $Y_{score}$ will be having float values <br>\n",
    "Your task is to find the value of $f(Y,Y_{score}) = -1*\\frac{1}{n}\\Sigma_{for each Y,Y_{score} pair}(Ylog10(Y_{score})+(1-Y)log10(1-Y_{score}))$ here n is the number of rows in the matrix\n",
    "<pre>\n",
    "Ex:\n",
    "[[1, 0.4], [0, 0.5], [0, 0.9], [0, 0.3], [0, 0.6], [1, 0.1], [1, 0.9], [1, 0.8]]\n",
    "output:\n",
    "0.4243099\n",
    "</pre>\n",
    "$\\frac{-1}{8}\\cdot((1\\cdot log_{10}(0.4)+0\\cdot log_{10}(0.6))+(0\\cdot log_{10}(0.5)+1\\cdot log_{10}(0.5)) + ... + (1\\cdot log_{10}(0.8)+0\\cdot log_{10}(0.2)) )$"
   ]
  },
  {
   "cell_type": "code",
   "execution_count": 194,
   "metadata": {
    "colab": {},
    "colab_type": "code",
    "id": "N9zkagyNB-lJ"
   },
   "outputs": [
    {
     "name": "stdout",
     "output_type": "stream",
     "text": [
      "0.42430993457031635\n"
     ]
    }
   ],
   "source": [
    "# write your python code here\n",
    "# you can take the above example as sample input for your program to test\n",
    "# it should work for any general input try not to hard code for only given input strings\n",
    "import math\n",
    "\n",
    "# you can free to change all these codes/structure\n",
    "def compute_log_loss(A):\n",
    "    # your code\n",
    "    result = 0\n",
    "    for y,yscore in A:\n",
    "        result += (y*math.log10(yscore))+((1-y)*math.log10(1-yscore))\n",
    "    loss = -1/(len(A))*result\n",
    "    return loss\n",
    "\n",
    "A = [[1, 0.4], [0, 0.5], [0, 0.9], [0, 0.3], [0, 0.6], [1, 0.1], [1, 0.9], [1, 0.8]]\n",
    "loss = compute_log_loss(A)\n",
    "print(loss)"
   ]
  }
 ],
 "metadata": {
  "colab": {
   "collapsed_sections": [],
   "name": "1.Python Assignment.ipynb",
   "provenance": []
  },
  "kernelspec": {
   "display_name": "wb_python_37",
   "language": "python",
   "name": "wb_python_37"
  },
  "language_info": {
   "codemirror_mode": {
    "name": "ipython",
    "version": 3
   },
   "file_extension": ".py",
   "mimetype": "text/x-python",
   "name": "python",
   "nbconvert_exporter": "python",
   "pygments_lexer": "ipython3",
   "version": "3.7.7"
  }
 },
 "nbformat": 4,
 "nbformat_minor": 1
}
